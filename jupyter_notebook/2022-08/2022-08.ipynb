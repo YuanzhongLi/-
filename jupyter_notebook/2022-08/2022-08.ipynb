{
 "cells": [
  {
   "cell_type": "code",
   "execution_count": null,
   "id": "9f549c7a-0d51-48d0-9136-9d34f62c49de",
   "metadata": {},
   "outputs": [],
   "source": [
    "# 1 - (1)"
   ]
  },
  {
   "cell_type": "code",
   "execution_count": 28,
   "id": "e552c46e-7680-4b03-a460-ef6bd98b700c",
   "metadata": {},
   "outputs": [],
   "source": [
    "def retrieve_walls(file_path: str):\n",
    "    with open(file_path, mode='r') as f:        \n",
    "        line = f.readlines()[0]\n",
    "        row_col_arr = line.rstrip().split(',')\n",
    "        wall_num = len(row_col_arr)//2\n",
    "        walls = []\n",
    "        for i in range(wall_num):\n",
    "            col, row = int(row_col_arr[i*2]), int(row_col_arr[i*2+1])\n",
    "            walls.append((col, row))\n",
    "\n",
    "        return walls"
   ]
  },
  {
   "cell_type": "code",
   "execution_count": 83,
   "id": "9aea6cb5-b203-423d-ab8e-e989c33d8ef2",
   "metadata": {},
   "outputs": [
    {
     "name": "stdout",
     "output_type": "stream",
     "text": [
      "[(1, 4), (3, 2), (4, 3), (5, 4)]\n"
     ]
    }
   ],
   "source": [
    "file_path = \"maze1.txt\"\n",
    "print(retrieve_walls(file_path))"
   ]
  },
  {
   "cell_type": "code",
   "execution_count": 84,
   "id": "ba55fbaf-4c69-438f-9678-38c0a421bf08",
   "metadata": {},
   "outputs": [],
   "source": [
    "# debug用でこの関数は別に必要はない\n",
    "# n: 迷路の一辺の長さ\n",
    "def show_maze(n, wall_set):\n",
    "    # 迷路の上辺\n",
    "    print(\" \" + \"- \" * n)\n",
    "        \n",
    "    for i in range(n):\n",
    "        line = \"|\"\n",
    "        for j in range(n-1):\n",
    "            line += (\" \")\n",
    "            if (2*i+1, 2*j+2) in wall_set:\n",
    "                line += \"|\"\n",
    "            else:\n",
    "                line += \" \"\n",
    "        line += \" |\"\n",
    "        print(line)\n",
    "\n",
    "        if i < n-1:\n",
    "            line2 = \" \"\n",
    "            for j in range(n):\n",
    "                if (2*i+2, 2*j+1) in wall_set:\n",
    "                    line2 += \"- \"\n",
    "                else:\n",
    "                    line2 += \"  \"\n",
    "            print(line2)\n",
    "            \n",
    "        \n",
    "    # 迷路の下辺\n",
    "    print(\" \" + \"- \" * n)"
   ]
  },
  {
   "cell_type": "code",
   "execution_count": 85,
   "id": "4a0541c3-ef40-45e8-a0c5-49fc26e8d590",
   "metadata": {},
   "outputs": [
    {
     "name": "stdout",
     "output_type": "stream",
     "text": [
      " - - - \n",
      "|   | |\n",
      "       \n",
      "| |   |\n",
      "   -   \n",
      "|   | |\n",
      " - - - \n"
     ]
    }
   ],
   "source": [
    "file_path = \"maze1.txt\"\n",
    "walls = retrieve_walls(file_path)\n",
    "wall_set = set(walls)\n",
    "show_maze(3, wall_set)"
   ]
  },
  {
   "cell_type": "code",
   "execution_count": 55,
   "id": "71d5676c-4689-4cec-8842-699bd92882c2",
   "metadata": {},
   "outputs": [],
   "source": [
    "# 1 - (2)"
   ]
  },
  {
   "cell_type": "code",
   "execution_count": 61,
   "id": "96a89643-d7c7-413a-9e69-4b1a9f3fa901",
   "metadata": {},
   "outputs": [],
   "source": [
    "def count_deadspace(n, wall_set):\n",
    "    ret = 0\n",
    "    for i in range(n):        \n",
    "        for j in range(n):\n",
    "            wall_cnt = 0\n",
    "            # up\n",
    "            if i == 0 or (2*i, 2*j+1) in wall_set:\n",
    "                wall_cnt += 1\n",
    "                \n",
    "            # down\n",
    "            if i == n-1 or (2*i+2, 2*j+1) in wall_set:\n",
    "                wall_cnt += 1\n",
    "                \n",
    "            # left\n",
    "            if j == 0 or (2*i+1, 2*j) in wall_set:\n",
    "                wall_cnt += 1\n",
    "\n",
    "            # right\n",
    "            if j == n-1 or (2*i+1, 2*j+2) in wall_set:\n",
    "                wall_cnt += 1\n",
    "                    \n",
    "            if wall_cnt == 3:\n",
    "                ret += 1\n",
    "    return ret                "
   ]
  },
  {
   "cell_type": "code",
   "execution_count": 62,
   "id": "0198742e-91a4-4cd9-be07-eaccf67149ed",
   "metadata": {},
   "outputs": [
    {
     "data": {
      "text/plain": [
       "3"
      ]
     },
     "execution_count": 62,
     "metadata": {},
     "output_type": "execute_result"
    }
   ],
   "source": [
    "# maze2を作るのは大変なのでmaze1で代用\n",
    "file_path = \"maze1.txt\"\n",
    "walls = retrieve_walls(file_path)\n",
    "wall_set = set(walls)\n",
    "count_deadspace(3, wall_set)"
   ]
  },
  {
   "cell_type": "code",
   "execution_count": 63,
   "id": "ff4b6136-978a-4f99-8c9f-cc61b62e237d",
   "metadata": {},
   "outputs": [],
   "source": [
    "# 1 - (3)"
   ]
  },
  {
   "cell_type": "code",
   "execution_count": 68,
   "id": "f5520cab-4697-478a-b95b-0c7ff0dbbaae",
   "metadata": {},
   "outputs": [],
   "source": [
    "def up_wall(i, j):\n",
    "    return (2*i, 2*j+1)\n",
    "\n",
    "def down_wall(i, j):\n",
    "    return (2*i+2, 2*j+1)\n",
    "\n",
    "def left_wall(i, j):\n",
    "    return (2*i+1, 2*j)\n",
    "\n",
    "def right_wall(i, j):\n",
    "    return (2*i+1, 2*j+2)\n",
    "\n",
    "def create_graph(n, wall_set):\n",
    "    dy = [-1, 0, 1, 0]\n",
    "    dx = [0, 1, 0, -1]\n",
    "\n",
    "    graph = [[] for _ in range(n*n)]\n",
    "    \n",
    "    for i in range(n):\n",
    "        for j in range(n):\n",
    "            u = i*n+j\n",
    "            for k in range(4):\n",
    "                vi, vj = i+dy[k], j+dx[k]\n",
    "                if 0 <= vi and vi < n and 0 <= vj and vj < n:\n",
    "                    v = vi*n + vj\n",
    "                    # up\n",
    "                    if k == 0 and not (up_wall(i, j) in wall_set):\n",
    "                        graph[u].append(v)\n",
    "\n",
    "                    # right\n",
    "                    if k == 1 and not (right_wall(i, j) in wall_set):\n",
    "                        graph[u].append(v)\n",
    "    \n",
    "                    # down\n",
    "                    if k == 2 and not (down_wall(i, j) in wall_set):\n",
    "                        graph[u].append(v)\n",
    "\n",
    "                    # left\n",
    "                    if k == 3 and not (left_wall(i, j) in wall_set):\n",
    "                        graph[u].append(v)                        \n",
    "\n",
    "    return graph\n",
    "            "
   ]
  },
  {
   "cell_type": "code",
   "execution_count": 70,
   "id": "244263db-82d2-4d37-bb63-12d1246cc3b9",
   "metadata": {},
   "outputs": [
    {
     "name": "stdout",
     "output_type": "stream",
     "text": [
      "[[1, 3], [4, 0], [5], [0, 6], [1, 5], [2, 8, 4], [3, 7], [6], [5]]\n"
     ]
    }
   ],
   "source": [
    "# maze3を作るのは大変なのでmaze1で代用\n",
    "file_path = \"maze1.txt\"\n",
    "walls = retrieve_walls(file_path)\n",
    "wall_set = set(walls)\n",
    "graph = create_graph(3, wall_set)\n",
    "print(graph)"
   ]
  },
  {
   "cell_type": "code",
   "execution_count": 76,
   "id": "bbb702b4-f0d7-4bdf-b5eb-69788ae04596",
   "metadata": {},
   "outputs": [],
   "source": [
    "from collections import deque\n",
    "\n",
    "def bfs(graph, start, end):\n",
    "    dy = [-1, 0, 1, 0]\n",
    "    dx = [0, 1, 0, -1]\n",
    "    \n",
    "    N = len(graph)\n",
    "    visited = [False for _ in range(N)]\n",
    "    que = deque([(start, 1)])\n",
    "    while que:\n",
    "        u, ud = que.popleft()\n",
    "        if visited[u]:\n",
    "            continue\n",
    "                    \n",
    "        visited[u] = True\n",
    "\n",
    "        if u == end:\n",
    "            return ud\n",
    "        \n",
    "        for v in graph[u]:\n",
    "            if visited[v]:\n",
    "                continue\n",
    "            que.append((v, ud+1))\n",
    "\n",
    "    # 問題文より必ず辿り着けるとあるが、ない場合-1を返すことでデバッグができる\n",
    "    return -1"
   ]
  },
  {
   "cell_type": "code",
   "execution_count": 77,
   "id": "b9d9fb88-4bc3-4bb5-85d3-610da639c14b",
   "metadata": {},
   "outputs": [
    {
     "name": "stdout",
     "output_type": "stream",
     "text": [
      "5\n"
     ]
    }
   ],
   "source": [
    "ans = bfs(graph, 0, 8)\n",
    "print(ans)"
   ]
  },
  {
   "cell_type": "code",
   "execution_count": 75,
   "id": "8ecd3bb7-e202-4b65-9431-838bba75da30",
   "metadata": {},
   "outputs": [],
   "source": [
    "# 1 - (4)"
   ]
  },
  {
   "cell_type": "code",
   "execution_count": 81,
   "id": "7b75b932-641d-4c1a-8fcb-343dfb002b06",
   "metadata": {},
   "outputs": [],
   "source": [
    "def is_tree(graph):\n",
    "    N = len(graph)\n",
    "    visited = [False for _ in range(N)]\n",
    "    global visited_cnt\n",
    "    visited_cnt = 0\n",
    "\n",
    "    # 閉路があるかを検出するdfs, 閉路があればTrueを返す\n",
    "    # p: parent\n",
    "    def dfs(u, p):\n",
    "        visited[u] = True\n",
    "        global visited_cnt\n",
    "        visited_cnt += 1\n",
    "        for v in graph[u]:\n",
    "            if v == p:\n",
    "                continue\n",
    "\n",
    "            if visited[v]:\n",
    "                return True\n",
    "                \n",
    "             # 子v以下に閉路が存在                \n",
    "            if dfs(v, u):\n",
    "                return True\n",
    "\n",
    "        return False\n",
    "\n",
    "    has_cycle = dfs(0, -1)\n",
    "    \n",
    "    # 木である条件は閉路なしかつ全てのノードに到達可能\n",
    "    return (not has_cycle) and (visited_cnt == N)        "
   ]
  },
  {
   "cell_type": "code",
   "execution_count": 82,
   "id": "dfd91e3c-c4b8-4082-890d-84e13e7b74c1",
   "metadata": {},
   "outputs": [
    {
     "name": "stdout",
     "output_type": "stream",
     "text": [
      "True\n"
     ]
    }
   ],
   "source": [
    "print(is_tree(graph))"
   ]
  },
  {
   "cell_type": "code",
   "execution_count": 86,
   "id": "380435f5-6975-4081-bffd-3532b9e0c782",
   "metadata": {},
   "outputs": [],
   "source": [
    "# 2 - (1)"
   ]
  },
  {
   "cell_type": "code",
   "execution_count": 87,
   "id": "88b9cef0-818c-4ce5-9796-9458c71b239a",
   "metadata": {},
   "outputs": [],
   "source": [
    "def retrieve_sequence(file_path: str):\n",
    "    with open(file_path, mode='r') as f:        \n",
    "        line = f.readlines()[0]\n",
    "        return [int(i) for i in line.rstrip().split(',')]"
   ]
  },
  {
   "cell_type": "code",
   "execution_count": 152,
   "id": "8d33b20c-d44e-4087-9a11-f338955ff847",
   "metadata": {},
   "outputs": [
    {
     "data": {
      "text/plain": [
       "0"
      ]
     },
     "execution_count": 152,
     "metadata": {},
     "output_type": "execute_result"
    }
   ],
   "source": [
    "file_path = \"maze1_p.txt\"\n",
    "sequence = retrieve_sequence(file_path)\n",
    "sequence[3]"
   ]
  },
  {
   "cell_type": "code",
   "execution_count": 92,
   "id": "37798e3f-dc6a-4ffa-91d9-7597c02218ab",
   "metadata": {},
   "outputs": [],
   "source": [
    "# 2 - (2-a)"
   ]
  },
  {
   "cell_type": "code",
   "execution_count": 153,
   "id": "d509b9a9-3fb8-4b72-ad26-150f05c8ad2e",
   "metadata": {},
   "outputs": [],
   "source": [
    "def get_wallset_from_sequence(n, sequence):\n",
    "    wall_set = set([]) \n",
    "    for i in range(1, n):\n",
    "        for j in range(1, n):\n",
    "            s = i*n + j\n",
    "            ps = sequence[s]\n",
    "            if ps == 0:\n",
    "                wall_set.add(up_wall(i, j))\n",
    "            elif ps == 1:\n",
    "                wall_set.add(left_wall(i, j))\n",
    "            elif ps == 2:\n",
    "                wall_set.add(down_wall(i-1, j-1))\n",
    "            elif ps == 3:\n",
    "                wall_set.add(right_wall(i-1, j-1))                    \n",
    "\n",
    "    return wall_set"
   ]
  },
  {
   "cell_type": "code",
   "execution_count": 154,
   "id": "b11178a8-d852-4899-beac-5553715f0941",
   "metadata": {},
   "outputs": [
    {
     "name": "stdout",
     "output_type": "stream",
     "text": [
      " - - - \n",
      "|   | |\n",
      "       \n",
      "| |   |\n",
      "   -   \n",
      "|   | |\n",
      " - - - \n"
     ]
    }
   ],
   "source": [
    "file_path = \"maze1_p.txt\"\n",
    "maze1_p_sequence = retrieve_sequence(file_path)\n",
    "wall_set = get_wallset_from_sequence(3, maze1_p_sequence)\n",
    "show_maze(3, wall_set)"
   ]
  },
  {
   "cell_type": "code",
   "execution_count": 104,
   "id": "dab1e99f-cae6-47e4-ae74-f50b0e34f1dc",
   "metadata": {},
   "outputs": [
    {
     "name": "stdout",
     "output_type": "stream",
     "text": [
      " - - - \n",
      "|   | |\n",
      "       \n",
      "| |   |\n",
      "   -   \n",
      "|   | |\n",
      " - - - \n"
     ]
    }
   ],
   "source": [
    "show_maze(3, wall_set)"
   ]
  },
  {
   "cell_type": "code",
   "execution_count": 113,
   "id": "8603f811-225f-4d6e-84b2-4719203c7d15",
   "metadata": {},
   "outputs": [],
   "source": [
    "# 上下左右それぞれについて壁がある場合はTrueを返す\n",
    "def get_wall_situation(n, i, j, wall_set):\n",
    "    u, d, l, r = False, False, False, False\n",
    "    \n",
    "    if i == 0 or up_wall(i, j) in wall_set:\n",
    "        u = True\n",
    "\n",
    "    if i == n-1 or down_wall(i, j) in wall_set:\n",
    "        d = True\n",
    "\n",
    "    if j == 0 or left_wall(i, j) in wall_set:\n",
    "        l = True\n",
    "\n",
    "    if j == n-1 or right_wall(i, j) in wall_set:\n",
    "        r = True\n",
    "\n",
    "    return u, d, l, r"
   ]
  },
  {
   "cell_type": "code",
   "execution_count": 114,
   "id": "6b65eddf-3cac-46da-a7ca-4fbb323f19e1",
   "metadata": {},
   "outputs": [
    {
     "name": "stdout",
     "output_type": "stream",
     "text": [
      "0 0 (True, False, True, False)\n",
      "0 1 (True, False, False, True)\n",
      "0 2 (True, False, True, True)\n",
      "1 0 (False, False, True, True)\n",
      "1 1 (False, True, True, False)\n",
      "1 2 (False, False, False, True)\n",
      "2 0 (False, True, True, False)\n",
      "2 1 (True, True, False, True)\n",
      "2 2 (False, True, True, True)\n"
     ]
    }
   ],
   "source": [
    "for i in range(3):\n",
    "    for j in range(3):\n",
    "        print(i, j, get_wall_situation(3, i, j, wall_set))"
   ]
  },
  {
   "cell_type": "code",
   "execution_count": 115,
   "id": "5942f1fd-144a-4db2-afe1-fd96b3c89fb9",
   "metadata": {},
   "outputs": [],
   "source": [
    "# 2 - (2-b)"
   ]
  },
  {
   "cell_type": "code",
   "execution_count": 116,
   "id": "01b17e93-f641-46d8-b6a9-105b6fc016f3",
   "metadata": {},
   "outputs": [],
   "source": [
    "def count_L_number(n, wall_set):\n",
    "    ret = 0\n",
    "    for i in range(n):\n",
    "        for j in range(n):\n",
    "            u, d, l, r = get_wall_situation(n, i, j, wall_set)\n",
    "            if (not u) and d and l and (not r):\n",
    "                ret += 1\n",
    "                \n",
    "    return ret                "
   ]
  },
  {
   "cell_type": "code",
   "execution_count": 155,
   "id": "6a92c143-ff07-4e2d-b216-afb42b4d6f71",
   "metadata": {},
   "outputs": [
    {
     "data": {
      "text/plain": [
       "2"
      ]
     },
     "execution_count": 155,
     "metadata": {},
     "output_type": "execute_result"
    }
   ],
   "source": [
    "count_L_number(3, wall_set)"
   ]
  },
  {
   "cell_type": "code",
   "execution_count": 156,
   "id": "b3c57e5f-bb32-424d-b9ea-d0ddd059f7e7",
   "metadata": {},
   "outputs": [],
   "source": [
    "def strict_count_L_number(n, wall_set):\n",
    "    ret = 0\n",
    "    for i in range(1, n):\n",
    "        for j in range(n-1):            \n",
    "            u, d, l, r = get_wall_situation(n, i, j, wall_set)\n",
    "            u1, d1, l1, r1 = get_wall_situation(n, i-1, j+1, wall_set)\n",
    "            if ((not u) and d and l and (not r) and\n",
    "               (d1 or l1)):\n",
    "                ret += 1\n",
    "                \n",
    "                \n",
    "    return ret  "
   ]
  },
  {
   "cell_type": "code",
   "execution_count": 157,
   "id": "81df83b8-8621-4365-8adc-b24731c3a3bf",
   "metadata": {},
   "outputs": [
    {
     "data": {
      "text/plain": [
       "2"
      ]
     },
     "execution_count": 157,
     "metadata": {},
     "output_type": "execute_result"
    }
   ],
   "source": [
    "strict_count_L_number(3, wall_set)"
   ]
  },
  {
   "cell_type": "code",
   "execution_count": 118,
   "id": "98d21f7b-5db1-40b4-a5e2-2ef0027dca05",
   "metadata": {},
   "outputs": [],
   "source": [
    "# 2 - (3-a)"
   ]
  },
  {
   "cell_type": "code",
   "execution_count": 126,
   "id": "0b101ef4-5979-464d-b037-e772fb5c0de0",
   "metadata": {},
   "outputs": [],
   "source": [
    "def is_closed_cell(n, i, j, wall_set):\n",
    "    u, d, l, r = get_wall_situation(n, i, j, wall_set)\n",
    "    return u and d and l and r\n",
    "\n",
    "# neighborとcellから迷路のwall_setを作成して返す\n",
    "def create_maze(n, neighbor, cell):\n",
    "    # up, right, down, left\n",
    "    dy = [-1, 0, 1, 0]\n",
    "    dx = [0, 1, 0, -1]\n",
    "    \n",
    "    wall_set = set([])\n",
    "    for i in range(n):\n",
    "        for j in range(n):\n",
    "            if i > 0:\n",
    "                wall_set.add(up_wall(i, j))\n",
    "                \n",
    "            if i < n-1:\n",
    "                wall_set.add(down_wall(i, j))\n",
    "\n",
    "            if j > 0:\n",
    "                wall_set.add(left_wall(i, j))\n",
    "\n",
    "            if j < n-1:\n",
    "                wall_set.add(right_wall(i, j))                \n",
    "\n",
    "    \n",
    "    len_n = len(neighbor)\n",
    "    len_c = len(cell)\n",
    "\n",
    "    cur_i, cur_j = 0, 0\n",
    "    cur_s = 0\n",
    "    \n",
    "\n",
    "    # 時間計算量: O(n*n)\n",
    "    # neighborで次のセルを見つけた場合毎回1つ壁が外れる。壁は高々O(n*n)個しかない\n",
    "    while True:        \n",
    "        find_next_by_neighbor = False\n",
    "        for s in range(cur_i+cur_j, len_n):\n",
    "            ns = neighbor[s]\n",
    "            next_i, next_j = -1, -1\n",
    "            if ns == 0: # up\n",
    "                next_i, next_j = cur_i-1, cur_j                                    \n",
    "            elif ns == 1: # left\n",
    "                next_i, next_j = cur_i, cur_j-1\n",
    "            elif ns == 2: # down\n",
    "                next_i, next_j = cur_i+1, cur_j\n",
    "            elif ns == 3: # right\n",
    "                next_i, next_j = cur_i, cur_j+1\n",
    "\n",
    "            if 0 <= next_i and next_i < n and 0 <= next_j and next_j < n and is_closed_cell(n, next_i, next_j, wall_set):\n",
    "                find_next_by_neighbor = True\n",
    "                if ns == 0: # up\n",
    "                    wall_set.remove(up_wall(cur_i, cur_j))\n",
    "                elif ns == 1: # left\n",
    "                    wall_set.remove(left_wall(cur_i, cur_j))                    \n",
    "                elif ns == 2: # down\n",
    "                    wall_set.remove(down_wall(cur_i, cur_j)) \n",
    "                elif ns == 3: # right\n",
    "                    wall_set.remove(right_wall(cur_i, cur_j)) \n",
    "\n",
    "                cur_i, cur_j = next_i, next_j\n",
    "                break\n",
    "\n",
    "        if not find_next_by_neighbor:\n",
    "            find_next_by_cell = False\n",
    "            for t in range(2*(cur_i // cur_j), len_c, 2):\n",
    "                ct, ct1 = cell[t], cell[t+1]\n",
    "                cell_closed = is_closed_cell(n, ct, ct1, wall_set)\n",
    "                if cell_closed:\n",
    "                    continue\n",
    "                \n",
    "                has_closed_neighbor_cell = False\n",
    "                for d in range(4):\n",
    "                    next_ct, next_ct1 = ct + dy[d], ct1 + dx[d]\n",
    "                    has_closed_neighbor_cell |= is_closed_cell(n, next_ct, next_ct1, wall_set)\n",
    "                    if has_closed_neighbor_cell:\n",
    "                        break\n",
    "\n",
    "                if has_closed_neighbor_cell:\n",
    "                    find_next_by_cell = True\n",
    "                    cur_i, cur_j = ct, ct1\n",
    "                    break\n",
    "\n",
    "            if not find_next_by_cell:\n",
    "                break\n",
    "\n",
    "    return wall_set                    "
   ]
  },
  {
   "cell_type": "code",
   "execution_count": 129,
   "id": "1c23f8c0-4ad9-49b6-a49e-6f623f318a07",
   "metadata": {},
   "outputs": [],
   "source": [
    "# 2 - (3-b)"
   ]
  },
  {
   "cell_type": "code",
   "execution_count": 130,
   "id": "f7c1fb3e-0f8b-42a2-a7e5-6f5e71976d87",
   "metadata": {},
   "outputs": [
    {
     "data": {
      "text/plain": [
       "2"
      ]
     },
     "execution_count": 130,
     "metadata": {},
     "output_type": "execute_result"
    }
   ],
   "source": [
    "count_L_number(40, wall_set)"
   ]
  },
  {
   "cell_type": "code",
   "execution_count": 131,
   "id": "7e88c53e-69a0-4235-8a42-5a8757c135cd",
   "metadata": {},
   "outputs": [],
   "source": [
    "# 2 - (3-c)"
   ]
  },
  {
   "cell_type": "code",
   "execution_count": 158,
   "id": "741bd49b-3a03-4579-82b2-2e083efc034a",
   "metadata": {},
   "outputs": [],
   "source": [
    "from collections import defaultdict\n",
    "\n",
    "def get_longest_straight_path(n, wall_set):\n",
    "    # key: dist, value: 長さdistのまっすぐな経路の個数\n",
    "    dist2count = defaultdict(int)\n",
    "    \n",
    "    # i行目の横方向のまっすぐな経路の長さを数える\n",
    "    for i in range(n):\n",
    "        j = 0\n",
    "        l = 1\n",
    "        while j < n:\n",
    "            if j == n-1:\n",
    "                dist2count[l] += 1            \n",
    "            else:\n",
    "                if right_wall(i, j) in wall_set:\n",
    "                    dist2count[l] += 1\n",
    "                    # reset\n",
    "                    l = 1\n",
    "                else:                    \n",
    "                    l += 1\n",
    "            j += 1                        \n",
    "\n",
    "    # j列目の縦方向のまっすぐな経路の長さを数える\n",
    "    for j in range(n):\n",
    "        i = 0\n",
    "        l = 1\n",
    "        while i < n:\n",
    "            if i == n-1:\n",
    "                dist2count[l] += 1            \n",
    "            else:\n",
    "                if down_wall(i, j) in wall_set:\n",
    "                    dist2count[l] += 1\n",
    "                    # reset\n",
    "                    l = 1\n",
    "                else:                    \n",
    "                    l += 1\n",
    "            i += 1\n",
    "\n",
    "    max_l = max(dist2count.keys())\n",
    "    return max_l, dist2count[max_l]                                        "
   ]
  },
  {
   "cell_type": "code",
   "execution_count": 159,
   "id": "b770f692-d8bb-424d-88f0-56ba53310fd4",
   "metadata": {},
   "outputs": [
    {
     "data": {
      "text/plain": [
       "(3, 2)"
      ]
     },
     "execution_count": 159,
     "metadata": {},
     "output_type": "execute_result"
    }
   ],
   "source": [
    "file_path = \"maze1.txt\"\n",
    "walls = retrieve_walls(file_path)\n",
    "wall_set = set(walls)\n",
    "get_longest_straight_path(3, wall_set)"
   ]
  },
  {
   "cell_type": "code",
   "execution_count": 150,
   "id": "21bf34c8-53e6-4e77-99d1-8e584fc44302",
   "metadata": {},
   "outputs": [],
   "source": [
    "# 2 - (3-d)"
   ]
  },
  {
   "cell_type": "code",
   "execution_count": 161,
   "id": "c2f35b27-05d8-4a08-b87d-9862b384977c",
   "metadata": {},
   "outputs": [],
   "source": [
    "def go_aside_left_wall(n, wall_set, ei=39, ej=27):\n",
    "    # up, right, down, left\n",
    "    dy = [-1, 0, 1, 0]\n",
    "    dx = [0, 1, 0, -1]\n",
    "\n",
    "    # 現在向いている方向\n",
    "    # cur_d: 現在向いている方向\n",
    "    # 0: up, 1: right, 2: down, 3: left\n",
    "    cur_d = 1\n",
    "\n",
    "    # 現在位置\n",
    "    cur_i, cur_j = 0, 0\n",
    "\n",
    "    # 進んだ長さ\n",
    "    l = 1\n",
    "    while not (cur_i == ei and cur_j == ej):\n",
    "        if cur_d == 0: # up\n",
    "            if up_wall(cur_i, cur_j) in wall_set:\n",
    "                cur_d = 1\n",
    "            else:\n",
    "                cur_i -= 1\n",
    "                l += 1\n",
    "                if cur_i == ei and cur_j == ej:\n",
    "                    break\n",
    "                if left_wall(cur_i, cur_j) in wall_set:\n",
    "                    continue\n",
    "                    \n",
    "                cur_j -= 1\n",
    "                l += 1\n",
    "                if cur_i == ei and cur_j == ej:\n",
    "                    break\n",
    "                if down_wall(cur_i, cur_j) in wall_set:\n",
    "                    cur_d = 3\n",
    "                    continue\n",
    "\n",
    "                cur_i += 1\n",
    "                l += 1\n",
    "                if cur_i == ei and cur_j == ej:\n",
    "                    break\n",
    "                cur_d = 2\n",
    "                \n",
    "        elif cur_d == 1: # right\n",
    "            if right_wall(cur_i, cur_j) in wall_set:\n",
    "                cur_d = 2\n",
    "            else:\n",
    "                cur_j += 1\n",
    "                l += 1\n",
    "                if cur_i == ei and cur_j == ej:\n",
    "                    break\n",
    "                if up_wall(cur_i, cur_j) in wall_set:\n",
    "                    continue\n",
    "                    \n",
    "                cur_i -= 1\n",
    "                l += 1\n",
    "                if cur_i == ei and cur_j == ej:\n",
    "                    break\n",
    "                if left_wall(cur_i, cur_j) in wall_set:\n",
    "                    cur_d = 0\n",
    "                    continue\n",
    "\n",
    "                cur_j -= 1\n",
    "                l += 1\n",
    "                if cur_i == ei and cur_j == ej:\n",
    "                    break\n",
    "                cur_d = 3\n",
    "                \n",
    "        elif cur_d == 2: # down\n",
    "            if down_wall(cur_i, cur_j) in wall_set:\n",
    "                cur_d = 3\n",
    "            else:\n",
    "                cur_i += 1\n",
    "                l += 1\n",
    "                if cur_i == ei and cur_j == ej:\n",
    "                    break\n",
    "                if right_wall(cur_i, cur_j) in wall_set:\n",
    "                    continue\n",
    "                    \n",
    "                cur_j += 1\n",
    "                l += 1\n",
    "                if cur_i == ei and cur_j == ej:\n",
    "                    break\n",
    "                if up_wall(cur_i, cur_j) in wall_set:\n",
    "                    cur_d = 1\n",
    "                    continue\n",
    "\n",
    "                cur_i -= 1\n",
    "                l += 1\n",
    "                if cur_i == ei and cur_j == ej:\n",
    "                    break\n",
    "                cur_d = 0\n",
    "                \n",
    "        elif cur_d == 3: # left\n",
    "            if left_wall(cur_i, cur_j) in wall_set:\n",
    "                cur_d = 0\n",
    "            else:\n",
    "                cur_j -= 1\n",
    "                l += 1\n",
    "                if cur_i == ei and cur_j == ej:\n",
    "                    break\n",
    "                if down_wall(cur_i, cur_j) in wall_set:\n",
    "                    continue\n",
    "                    \n",
    "                cur_i += 1\n",
    "                l += 1\n",
    "                if cur_i == ei and cur_j == ej:\n",
    "                    break\n",
    "                if right_wall(cur_i, cur_j) in wall_set:\n",
    "                    cur_d = 2\n",
    "                    continue\n",
    "\n",
    "                cur_j += 1\n",
    "                l += 1\n",
    "                if cur_i == ei and cur_j == ej:\n",
    "                    break\n",
    "                cur_d = 1                          \n",
    "\n",
    "    return l\n",
    "    "
   ]
  },
  {
   "cell_type": "code",
   "execution_count": null,
   "id": "1888b7f4-2a17-4b49-9ffa-73a7fa775c4f",
   "metadata": {},
   "outputs": [],
   "source": []
  }
 ],
 "metadata": {
  "kernelspec": {
   "display_name": "Python 3 (ipykernel)",
   "language": "python",
   "name": "python3"
  },
  "language_info": {
   "codemirror_mode": {
    "name": "ipython",
    "version": 3
   },
   "file_extension": ".py",
   "mimetype": "text/x-python",
   "name": "python",
   "nbconvert_exporter": "python",
   "pygments_lexer": "ipython3",
   "version": "3.12.1"
  }
 },
 "nbformat": 4,
 "nbformat_minor": 5
}
